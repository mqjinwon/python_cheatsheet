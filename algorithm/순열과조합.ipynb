{
 "cells": [
  {
   "cell_type": "markdown",
   "metadata": {},
   "source": [
    "# 순열과 조합 구현"
   ]
  },
  {
   "cell_type": "code",
   "execution_count": 2,
   "metadata": {},
   "outputs": [],
   "source": [
    "data = ['A', 'B', 'C']"
   ]
  },
  {
   "cell_type": "markdown",
   "metadata": {},
   "source": [
    "## 순열 (Permutation)"
   ]
  },
  {
   "cell_type": "code",
   "execution_count": 4,
   "metadata": {},
   "outputs": [
    {
     "data": {
      "text/plain": [
       "[['A', 'B'], ['A', 'C'], ['B', 'A'], ['B', 'C'], ['C', 'A'], ['C', 'B']]"
      ]
     },
     "execution_count": 4,
     "metadata": {},
     "output_type": "execute_result"
    }
   ],
   "source": [
    "# 순열 구현하기\n",
    "def permutation(data, r):\n",
    "    for i in range(len(data)):\n",
    "        if r == 1:\n",
    "            yield [data[i]]\n",
    "        else:\n",
    "            for next in permutation(data[:i] + data[i+1:], r-1):\n",
    "                yield [data[i]] + next\n",
    "\n",
    "print(list(permutation(data, 2)))"
   ]
  },
  {
   "cell_type": "code",
   "execution_count": 5,
   "metadata": {},
   "outputs": [
    {
     "name": "stdout",
     "output_type": "stream",
     "text": [
      "[['A', 'A'], ['A', 'B'], ['A', 'C'], ['B', 'A'], ['B', 'B'], ['B', 'C'], ['C', 'A'], ['C', 'B'], ['C', 'C']]\n"
     ]
    }
   ],
   "source": [
    "# 중복 순열 구현하기\n",
    "def permutation_with_replacement(data, r):\n",
    "    for i in range(len(data)):\n",
    "        if r == 1:\n",
    "            yield [data[i]]\n",
    "        else:\n",
    "            for next in permutation_with_replacement(data, r-1):\n",
    "                yield [data[i]] + next\n",
    "print(list(permutation_with_replacement(data, 2)))"
   ]
  },
  {
   "cell_type": "markdown",
   "metadata": {},
   "source": [
    "## 조합 구현하기"
   ]
  },
  {
   "cell_type": "code",
   "execution_count": 7,
   "metadata": {},
   "outputs": [
    {
     "name": "stdout",
     "output_type": "stream",
     "text": [
      "[['A', 'B'], ['A', 'C'], ['B', 'C']]\n"
     ]
    }
   ],
   "source": [
    "# 조합 구현하기\n",
    "def combination(data, r):\n",
    "    for i in range(len(data)):\n",
    "        if r == 1:\n",
    "            yield [data[i]]\n",
    "        else:\n",
    "            for next in combination(data[i+1:], r-1):\n",
    "                yield [data[i]] + next\n",
    "\n",
    "print(list(combination(data, 2)))"
   ]
  },
  {
   "cell_type": "code",
   "execution_count": 8,
   "metadata": {},
   "outputs": [
    {
     "name": "stdout",
     "output_type": "stream",
     "text": [
      "[['A', 'A'], ['A', 'B'], ['A', 'C'], ['B', 'B'], ['B', 'C'], ['C', 'C']]\n"
     ]
    }
   ],
   "source": [
    "# 중복 조합 구현하기\n",
    "def combination_with_replacement(data, r):\n",
    "    for i in range(len(data)):\n",
    "        if r == 1:\n",
    "            yield [data[i]]\n",
    "        else:\n",
    "            for next in combination_with_replacement(data[i:], r-1):\n",
    "                yield [data[i]] + next\n",
    "\n",
    "print(list(combination_with_replacement(data, 2)))"
   ]
  },
  {
   "cell_type": "code",
   "execution_count": null,
   "metadata": {},
   "outputs": [],
   "source": []
  }
 ],
 "metadata": {
  "kernelspec": {
   "display_name": "Python 3.9.12 ('base')",
   "language": "python",
   "name": "python3"
  },
  "language_info": {
   "codemirror_mode": {
    "name": "ipython",
    "version": 3
   },
   "file_extension": ".py",
   "mimetype": "text/x-python",
   "name": "python",
   "nbconvert_exporter": "python",
   "pygments_lexer": "ipython3",
   "version": "3.9.12"
  },
  "orig_nbformat": 4,
  "vscode": {
   "interpreter": {
    "hash": "62a7af92ab6101a3a94502fdbe78225ebe37029b375878b440ea7d81328eab22"
   }
  }
 },
 "nbformat": 4,
 "nbformat_minor": 2
}
