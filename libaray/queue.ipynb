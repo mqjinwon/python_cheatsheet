{
 "cells": [
  {
   "cell_type": "code",
   "execution_count": 1,
   "metadata": {},
   "outputs": [],
   "source": [
    "from collections import deque"
   ]
  },
  {
   "cell_type": "code",
   "execution_count": 2,
   "metadata": {},
   "outputs": [
    {
     "name": "stdout",
     "output_type": "stream",
     "text": [
      "deque([])\n",
      "deque([1, 2])\n",
      "deque([2])\n",
      "deque([])\n"
     ]
    }
   ],
   "source": [
    "queue = deque()\n",
    "\n",
    "print(queue)\n",
    "\n",
    "# Add to queue\n",
    "queue.append(1)\n",
    "queue.append(2)\n",
    "\n",
    "print(queue)\n",
    "\n",
    "# Remove from queue\n",
    "queue.popleft()\n",
    "\n",
    "print(queue)\n",
    "\n",
    "# Clear from queue\n",
    "queue.clear()\n",
    "\n",
    "print(queue)"
   ]
  },
  {
   "cell_type": "code",
   "execution_count": 5,
   "metadata": {},
   "outputs": [
    {
     "name": "stdout",
     "output_type": "stream",
     "text": [
      "[(1, 'eat'), (2, 'code'), (3, 'sleep'), (4, 'code')]\n",
      "[(3, 'sleep'), (4, 'code')]\n"
     ]
    }
   ],
   "source": [
    "# priority queue\n",
    "import heapq\n",
    "\n",
    "queue = []\n",
    "\n",
    "heapq.heappush(queue, (2, 'code'))\n",
    "heapq.heappush(queue, (1, 'eat'))\n",
    "heapq.heappush(queue, (3, 'sleep'))\n",
    "heapq.heappush(queue, (4, 'code'))\n",
    "\n",
    "print(queue)\n",
    "\n",
    "# Remove from queue\n",
    "heapq.heappop(queue)\n",
    "heapq.heappop(queue)\n",
    "\n",
    "print(queue)"
   ]
  },
  {
   "cell_type": "code",
   "execution_count": 6,
   "metadata": {},
   "outputs": [
    {
     "name": "stdout",
     "output_type": "stream",
     "text": [
      "[(-4, 'code'), (-3, 'sleep'), (-2, 'code'), (-1, 'eat')]\n",
      "[(-2, 'code'), (-1, 'eat')]\n"
     ]
    }
   ],
   "source": [
    "# reverse priority queue\n",
    "import heapq\n",
    "\n",
    "queue = []\n",
    "\n",
    "heapq.heappush(queue, (-2, 'code'))\n",
    "heapq.heappush(queue, (-1, 'eat'))\n",
    "heapq.heappush(queue, (-3, 'sleep'))\n",
    "heapq.heappush(queue, (-4, 'code'))\n",
    "\n",
    "print(queue)\n",
    "\n",
    "heapq.heappop(queue)\n",
    "heapq.heappop(queue)\n",
    "\n",
    "print(queue)"
   ]
  },
  {
   "cell_type": "code",
   "execution_count": null,
   "metadata": {},
   "outputs": [],
   "source": []
  }
 ],
 "metadata": {
  "kernelspec": {
   "display_name": "Python 3.9.12 ('base')",
   "language": "python",
   "name": "python3"
  },
  "language_info": {
   "codemirror_mode": {
    "name": "ipython",
    "version": 3
   },
   "file_extension": ".py",
   "mimetype": "text/x-python",
   "name": "python",
   "nbconvert_exporter": "python",
   "pygments_lexer": "ipython3",
   "version": "3.9.12"
  },
  "orig_nbformat": 4,
  "vscode": {
   "interpreter": {
    "hash": "62a7af92ab6101a3a94502fdbe78225ebe37029b375878b440ea7d81328eab22"
   }
  }
 },
 "nbformat": 4,
 "nbformat_minor": 2
}
